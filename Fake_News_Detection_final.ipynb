{
  "cells": [
    {
      "cell_type": "markdown",
      "metadata": {
        "id": "LV8DombBJ4w0"
      },
      "source": [
        "# Fake News Detection"
      ]
    },
    {
      "cell_type": "markdown",
      "metadata": {
        "id": "Aki9_ZDfJ4w3"
      },
      "source": [
        "# importation & preparation de dataset"
      ]
    },
    {
      "cell_type": "code",
      "source": [
        "# !pip install scikit-plot"
      ],
      "metadata": {
        "id": "OEWg1p1lTa4h"
      },
      "execution_count": null,
      "outputs": []
    },
    {
      "cell_type": "code",
      "execution_count": null,
      "metadata": {
        "id": "9bQXUjXaJ4w4"
      },
      "outputs": [],
      "source": [
        "import pandas as pd\n",
        "import numpy as np\n",
        "import matplotlib.pyplot as plt\n",
        "import scikitplot.plotters as skplt\n",
        "import re\n",
        "import string\n",
        "import nltk\n",
        "from nltk.corpus import stopwords\n",
        "from sklearn.model_selection import train_test_split\n",
        "from sklearn.feature_extraction.text import TfidfVectorizer\n",
        "from sklearn.metrics import classification_report, confusion_matrix\n",
        "from sklearn.tree import DecisionTreeClassifier\n",
        "from sklearn.ensemble import GradientBoostingClassifier\n",
        "from sklearn.ensemble import RandomForestClassifier\n",
        "from sklearn.ensemble import AdaBoostClassifier\n",
        "from sklearn.neighbors import KNeighborsClassifier\n",
        "from sklearn.svm import SVC\n",
        "import time\n"
      ]
    },
    {
      "cell_type": "markdown",
      "source": [
        "execution sur colab "
      ],
      "metadata": {
        "id": "f42iOcplhO6g"
      }
    },
    {
      "cell_type": "code",
      "source": [
        "from google.colab import drive\n",
        "drive.mount('/content/drive/')"
      ],
      "metadata": {
        "id": "L0eqU3YQQfIl"
      },
      "execution_count": null,
      "outputs": []
    },
    {
      "cell_type": "code",
      "source": [
        "%cd /content/drive/My Drive/Colab Notebooks/"
      ],
      "metadata": {
        "id": "H-NKwjtqQpux"
      },
      "execution_count": null,
      "outputs": []
    },
    {
      "cell_type": "code",
      "execution_count": null,
      "metadata": {
        "id": "_2k9TFiTJ4w6"
      },
      "outputs": [],
      "source": [
        "df_fake = pd.read_csv(\"Fake.csv\")\n",
        "df_true = pd.read_csv(\"True.csv\")"
      ]
    },
    {
      "cell_type": "code",
      "execution_count": null,
      "metadata": {
        "id": "wQq5dQRzJ4w6"
      },
      "outputs": [],
      "source": [
        "df_fake.head()"
      ]
    },
    {
      "cell_type": "code",
      "execution_count": null,
      "metadata": {
        "id": "6DtzVh5bJ4w8"
      },
      "outputs": [],
      "source": [
        "df_true.head()"
      ]
    },
    {
      "cell_type": "code",
      "execution_count": null,
      "metadata": {
        "id": "sZ7R5xGfJ4w9"
      },
      "outputs": [],
      "source": [
        "df_fake.shape, df_true.shape"
      ]
    },
    {
      "cell_type": "code",
      "execution_count": null,
      "metadata": {
        "id": "ErXqDJwBJ4w9"
      },
      "outputs": [],
      "source": [
        "df_fake[\"class\"] = 0\n",
        "df_true[\"class\"] = 1"
      ]
    },
    {
      "cell_type": "code",
      "execution_count": null,
      "metadata": {
        "id": "pMUKGXv6J4w-"
      },
      "outputs": [],
      "source": [
        "df_fake.shape, df_true.shape"
      ]
    },
    {
      "cell_type": "code",
      "execution_count": null,
      "metadata": {
        "id": "8V_PYkSdJ4w-"
      },
      "outputs": [],
      "source": [
        "df_merge = pd.concat([df_fake, df_true], axis =0 )\n",
        "df_merge.head(10)"
      ]
    },
    {
      "cell_type": "markdown",
      "metadata": {
        "id": "fF-5RakuJ4w_"
      },
      "source": [
        "df_merge.shape"
      ]
    },
    {
      "cell_type": "code",
      "execution_count": null,
      "metadata": {
        "id": "hAv97cljJ4w_"
      },
      "outputs": [],
      "source": [
        "df = df_merge.drop([\"title\", \"subject\",\"date\"], axis = 1)"
      ]
    },
    {
      "cell_type": "code",
      "execution_count": null,
      "metadata": {
        "id": "KUb51JliJ4xA"
      },
      "outputs": [],
      "source": [
        "df.head()"
      ]
    },
    {
      "cell_type": "markdown",
      "metadata": {
        "id": "BqM_pUZLJ4xA"
      },
      "source": [
        " on melange les data frames"
      ]
    },
    {
      "cell_type": "code",
      "execution_count": null,
      "metadata": {
        "id": "s-RP_3SRJ4xB"
      },
      "outputs": [],
      "source": [
        "df = df.sample(frac = 1)"
      ]
    },
    {
      "cell_type": "code",
      "execution_count": null,
      "metadata": {
        "id": "A1n0HUM4J4xB"
      },
      "outputs": [],
      "source": [
        "df.head()"
      ]
    },
    {
      "cell_type": "code",
      "execution_count": null,
      "metadata": {
        "id": "LdU574HfJ4xB"
      },
      "outputs": [],
      "source": [
        "#effacer les index\n",
        "df.reset_index(inplace = True)\n",
        "df.drop([\"index\"], axis = 1, inplace = True)\n"
      ]
    },
    {
      "cell_type": "code",
      "execution_count": null,
      "metadata": {
        "id": "RW393YNgJ4xC"
      },
      "outputs": [],
      "source": [
        "df.columns"
      ]
    },
    {
      "cell_type": "code",
      "execution_count": null,
      "metadata": {
        "id": "9ARqV0URJ4xC"
      },
      "outputs": [],
      "source": [
        "# df.drop([\"level_0\"], axis = 1, inplace = True)"
      ]
    },
    {
      "cell_type": "code",
      "execution_count": null,
      "metadata": {
        "id": "siKm8fCgJ4xC"
      },
      "outputs": [],
      "source": [
        "df.columns"
      ]
    },
    {
      "cell_type": "code",
      "execution_count": null,
      "metadata": {
        "id": "3cgUieH9J4xD"
      },
      "outputs": [],
      "source": [
        "df.head()"
      ]
    },
    {
      "cell_type": "markdown",
      "metadata": {
        "id": "g-hgauAuJ4xD"
      },
      "source": [
        "### textes en miniscul"
      ]
    },
    {
      "cell_type": "code",
      "execution_count": null,
      "metadata": {
        "id": "UzIasWY6J4xD"
      },
      "outputs": [],
      "source": [
        "# le text en miniscul\n",
        "\n",
        "def miniscul(text):\n",
        "    text = text.lower()\n",
        "    return text"
      ]
    },
    {
      "cell_type": "code",
      "execution_count": null,
      "metadata": {
        "id": "ga_NcCkxJ4xE"
      },
      "outputs": [],
      "source": [
        "df[\"text\"] = df[\"text\"].apply(miniscul)"
      ]
    },
    {
      "cell_type": "code",
      "execution_count": null,
      "metadata": {
        "id": "lc5_GqGQJ4xE"
      },
      "outputs": [],
      "source": [
        "df.head()"
      ]
    },
    {
      "cell_type": "markdown",
      "metadata": {
        "id": "-3Lj5cTMJ4xE"
      },
      "source": [
        "### supprimer les cracteres specieaux, ponctuation, les liens"
      ]
    },
    {
      "cell_type": "code",
      "execution_count": null,
      "metadata": {
        "id": "YjsxbZZCJ4xE"
      },
      "outputs": [],
      "source": [
        "# re.sub  pour supprimer les cracteres specieaux "
      ]
    },
    {
      "cell_type": "code",
      "execution_count": null,
      "metadata": {
        "id": "P_2uabFSJ4xF"
      },
      "outputs": [],
      "source": [
        "# help(re)"
      ]
    },
    {
      "cell_type": "code",
      "execution_count": null,
      "metadata": {
        "id": "wVaLdbhVJ4xF"
      },
      "outputs": [],
      "source": [
        "def supp_char_spe(text):\n",
        "    text = re.sub('\\[.*?\\]', '', text)\n",
        "    text = re.sub(\"\\\\W\",\" \",text) \n",
        "    text = re.sub('https?://\\S+|www\\.\\S+', '', text)\n",
        "    text = re.sub('<.*?>+', '', text)\n",
        "    text = re.sub('[%s]' % re.escape(string.punctuation), '', text)\n",
        "    text = re.sub('\\n', '', text)\n",
        "    text = re.sub('\\w*\\d\\w*', '', text)    \n",
        "    return text"
      ]
    },
    {
      "cell_type": "code",
      "execution_count": null,
      "metadata": {
        "id": "NTS6DrMNJ4xF"
      },
      "outputs": [],
      "source": [
        "df[\"text\"] = df[\"text\"].apply(supp_char_spe)"
      ]
    },
    {
      "cell_type": "code",
      "execution_count": null,
      "metadata": {
        "id": "LNvpZXwGJ4xF"
      },
      "outputs": [],
      "source": [
        "df.shape"
      ]
    },
    {
      "cell_type": "code",
      "execution_count": null,
      "metadata": {
        "id": "2gcItpL_J4xG"
      },
      "outputs": [],
      "source": [
        "df.isnull().sum()"
      ]
    },
    {
      "cell_type": "code",
      "execution_count": null,
      "metadata": {
        "id": "HLP8al8RJ4xG"
      },
      "outputs": [],
      "source": [
        "df.head()\n"
      ]
    },
    {
      "cell_type": "markdown",
      "metadata": {
        "id": "V0lxxJE5J4xG"
      },
      "source": [
        "enleve les Stop words"
      ]
    },
    {
      "cell_type": "code",
      "execution_count": null,
      "metadata": {
        "id": "XhHK4XfLJ4xG"
      },
      "outputs": [],
      "source": [
        "nltk.download('stopwords')\n",
        "stops = set(stopwords.words('english'))\n",
        "# print(stops)"
      ]
    },
    {
      "cell_type": "code",
      "execution_count": null,
      "metadata": {
        "id": "X5bHWImMJ4xH"
      },
      "outputs": [],
      "source": [
        "df.head()"
      ]
    },
    {
      "cell_type": "markdown",
      "metadata": {
        "id": "voUYc9DQJ4xH"
      },
      "source": [
        "definition des variables"
      ]
    },
    {
      "cell_type": "code",
      "execution_count": null,
      "metadata": {
        "id": "OejiMHVrJ4xH"
      },
      "outputs": [],
      "source": [
        "x = df[\"text\"]\n",
        "y = df[\"class\"]"
      ]
    },
    {
      "cell_type": "markdown",
      "metadata": {
        "id": "XxvPr27MJ4xH"
      },
      "source": [
        "#  Definition des models"
      ]
    },
    {
      "cell_type": "markdown",
      "metadata": {
        "id": "YMW-Sb3oJ4xH"
      },
      "source": [
        "definition des variable\n"
      ]
    },
    {
      "cell_type": "code",
      "execution_count": null,
      "metadata": {
        "id": "vOWSntU6J4xI"
      },
      "outputs": [],
      "source": [
        "x_train, x_test, y_train, y_test = train_test_split(x, y, test_size=0.20)"
      ]
    },
    {
      "cell_type": "markdown",
      "metadata": {
        "id": "tqa_NPBOJ4xI"
      },
      "source": [
        "# texts to vecteurs"
      ]
    },
    {
      "cell_type": "code",
      "execution_count": null,
      "metadata": {
        "id": "8J5M6-2MJ4xI"
      },
      "outputs": [],
      "source": [
        "# tf-idf\n",
        "vectorization = TfidfVectorizer(stop_words = stops)\n",
        "xv_train = vectorization.fit_transform(x_train)\n",
        "xv_test = vectorization.transform(x_test)\n",
        "xv_train"
      ]
    },
    {
      "cell_type": "markdown",
      "metadata": {
        "id": "iI7zB0RMJ4xJ"
      },
      "source": [
        "plot matrice de confusion"
      ]
    },
    {
      "cell_type": "code",
      "execution_count": null,
      "metadata": {
        "id": "BRnZ_uRlJ4xJ"
      },
      "outputs": [],
      "source": [
        "def plot_cmat(yte, ypred):\n",
        "    '''Plotting confusion matrix'''\n",
        "    skplt.plot_confusion_matrix(yte,ypred)\n",
        "    plt.show()"
      ]
    },
    {
      "cell_type": "markdown",
      "metadata": {
        "id": "uqmt1xwqJ4xJ"
      },
      "source": [
        "### DecisionTree"
      ]
    },
    {
      "cell_type": "code",
      "execution_count": null,
      "metadata": {
        "id": "Kv_mEkD6J4xJ"
      },
      "outputs": [],
      "source": [
        "start_time1 = time.time()\n",
        "\n",
        "DT = DecisionTreeClassifier()\n",
        "DT.fit(xv_train, y_train)\n",
        "pred_dt = DT.predict(xv_test)\n",
        "print(\"accuracy : \", DT.score(xv_test, y_test))\n",
        "\n",
        "print(\"--- %s seconds ---\" % (time.time() - start_time1))"
      ]
    },
    {
      "cell_type": "code",
      "execution_count": null,
      "metadata": {
        "id": "VefCNqg7J4xK"
      },
      "outputs": [],
      "source": [
        "print(classification_report(y_test, pred_dt))\n",
        "plot_cmat(y_test, pred_dt)"
      ]
    },
    {
      "cell_type": "markdown",
      "metadata": {
        "id": "iWi-Nb-dJ4xK"
      },
      "source": [
        "### GradientBoostingClassifier"
      ]
    },
    {
      "cell_type": "code",
      "execution_count": null,
      "metadata": {
        "id": "r9oml4UcJ4xK"
      },
      "outputs": [],
      "source": [
        "start_time2 = time.time()\n",
        "\n",
        "GBC = GradientBoostingClassifier(random_state=0)\n",
        "GBC.fit(xv_train, y_train)\n",
        "pred_gbc = GBC.predict(xv_test)\n",
        "print(\"accuracy : \",GBC.score(xv_test, y_test))\n",
        "\n",
        "print(\"--- %s seconds ---\" % (time.time() - start_time2))"
      ]
    },
    {
      "cell_type": "code",
      "execution_count": null,
      "metadata": {
        "id": "1cpNXgP_J4xL"
      },
      "outputs": [],
      "source": [
        "print(classification_report(y_test, pred_gbc))\n",
        "plot_cmat(y_test, pred_gbc)"
      ]
    },
    {
      "cell_type": "markdown",
      "metadata": {
        "id": "9ouKscDdJ4xL"
      },
      "source": [
        "### RandomForestClassifier"
      ]
    },
    {
      "cell_type": "code",
      "execution_count": null,
      "metadata": {
        "id": "YfA_EAKbJ4xL"
      },
      "outputs": [],
      "source": [
        "start_time3 = time.time()\n",
        "\n",
        "RFC = RandomForestClassifier(random_state=0)\n",
        "RFC.fit(xv_train, y_train)\n",
        "pred_rfc = RFC.predict(xv_test)\n",
        "print(\"accuracy : \",RFC.score(xv_test, y_test))\n",
        "\n",
        "print(\"--- %s seconds ---\" % (time.time() - start_time3))"
      ]
    },
    {
      "cell_type": "code",
      "execution_count": null,
      "metadata": {
        "id": "VPofwMRrJ4xM"
      },
      "outputs": [],
      "source": [
        "print(classification_report(y_test, pred_rfc))\n",
        "plot_cmat(y_test, pred_rfc)"
      ]
    },
    {
      "cell_type": "markdown",
      "metadata": {
        "id": "58L4nqa1J4xM"
      },
      "source": [
        "### AdaBoostClassifier"
      ]
    },
    {
      "cell_type": "code",
      "execution_count": null,
      "metadata": {
        "id": "ZgTbyLXzJ4xM"
      },
      "outputs": [],
      "source": [
        "start_time4 = time.time()\n",
        "\n",
        "ABC = AdaBoostClassifier(random_state=0)\n",
        "ABC.fit(xv_train, y_train)\n",
        "pred_abc = ABC.predict(xv_test)\n",
        "print(\"accuracy : \",ABC.score(xv_test, y_test))\n",
        "\n",
        "print(\"--- %s seconds ---\" % (time.time() - start_time4))"
      ]
    },
    {
      "cell_type": "code",
      "execution_count": null,
      "metadata": {
        "id": "wdfbR1PpJ4xM"
      },
      "outputs": [],
      "source": [
        "print(classification_report(y_test, pred_abc))\n",
        "plot_cmat(y_test, pred_abc)"
      ]
    },
    {
      "cell_type": "markdown",
      "metadata": {
        "id": "Yb42APARJ4xN"
      },
      "source": [
        "### KNNClassifier"
      ]
    },
    {
      "cell_type": "code",
      "execution_count": null,
      "metadata": {
        "id": "yCs7VJSbJ4xN"
      },
      "outputs": [],
      "source": [
        "start_time5 = time.time()\n",
        "\n",
        "KNNC = KNeighborsClassifier()\n",
        "KNNC.fit(xv_train, y_train)\n",
        "pred_knnc = KNNC.predict(xv_test)\n",
        "print(\"accuracy : \",KNNC.score(xv_test, y_test))\n",
        "\n",
        "print(\"--- %s seconds ---\" % (time.time() - start_time5))"
      ]
    },
    {
      "cell_type": "code",
      "execution_count": null,
      "metadata": {
        "id": "eJ1tYc-QJ4xN"
      },
      "outputs": [],
      "source": [
        "print(classification_report(y_test, pred_knnc))\n",
        "plot_cmat(y_test, pred_knnc)"
      ]
    },
    {
      "cell_type": "markdown",
      "metadata": {
        "id": "YrxiqiZ_J4xO"
      },
      "source": [
        "### SVMClassifier"
      ]
    },
    {
      "cell_type": "code",
      "execution_count": null,
      "metadata": {
        "id": "7yZvVOKyJ4xO"
      },
      "outputs": [],
      "source": [
        "start_time6 = time.time()\n",
        "\n",
        "SVMC = SVC()\n",
        "SVMC.fit(xv_train, y_train)\n",
        "pred_svmc = SVMC.predict(xv_test)\n",
        "print(\"accuracy : \", SVMC.score(xv_test, y_test))\n",
        "\n",
        "print(\"--- %s seconds ---\" % (time.time() - start_time6))"
      ]
    },
    {
      "cell_type": "code",
      "execution_count": null,
      "metadata": {
        "id": "8RuO_rvvJ4xO"
      },
      "outputs": [],
      "source": [
        "print(classification_report(y_test, pred_svmc))\n",
        "plot_cmat(y_test, pred_svmc)"
      ]
    },
    {
      "cell_type": "markdown",
      "metadata": {
        "id": "x9ufqXicJ4xO"
      },
      "source": [
        "# Model testing"
      ]
    },
    {
      "cell_type": "code",
      "execution_count": null,
      "metadata": {
        "id": "UO57WwM1J4xP"
      },
      "outputs": [],
      "source": [
        "\n",
        "test1 = \"\"\"SAO PAULO (Reuters) - Cesar Mata Pires, the owner and co-founder of Brazilian engineering conglomerate OAS SA, one of the largest companies involved in Brazil s corruption scandal, died on Tuesday. He was 68. Mata Pires died of a heart attack while taking a morning walk in an upscale district of S o Paulo, where OAS is based, a person with direct knowledge of the matter said. Efforts to contact his family were unsuccessful. OAS declined to comment. The son of a wealthy cattle rancher in the northeastern state of Bahia, Mata Pires  links to politicians were central to the expansion of OAS, which became Brazil s No. 4 builder earlier this decade, people familiar with his career told Reuters last year. His big break came when he befriended Antonio Carlos Magalh es, a popular politician who was Bahia governor several times, and eventually married his daughter Tereza. Brazilians joked that OAS stood for  Obras Arranjadas pelo Sogro  - or  Work Arranged by the Father-In-Law.   After years of steady growth triggered by a flurry of massive government contracts, OAS was ensnared in Operation Car Wash which unearthed an illegal contracting ring between state firms and builders. The ensuing scandal helped topple former Brazilian President Dilma Rousseff last year. Trained as an engineer, Mata Pires founded OAS with two colleagues in 1976 to do sub-contracting work for larger rival Odebrecht SA - the biggest of the builders involved in the probe.  Before the scandal, Forbes magazine estimated Mata Pires  fortune at $1.6 billion. He dropped off the magazine s billionaire list in 2015, months after OAS sought bankruptcy protection after the Car Wash scandal. While Mata Pires was never accused of wrongdoing in the investigations, creditors demanded he and his family stay away from the builder s day-to-day operations, people directly involved in the negotiations told Reuters at the time. He is survived by his wife and his two sons.\n",
        "\"\"\"\n",
        "test2 =\"\"\"Vic Bishop Waking TimesOur reality is carefully constructed by powerful corporate, political and special interest sources in order to covertly sway public opinion. Blatant lies are often televised regarding terrorism, food, war, health, etc. They are fashioned to sway public opinion and condition viewers to accept what have become destructive societal norms.The practice of manipulating and controlling public opinion with distorted media messages has become so common that there is a whole industry formed around this. The entire role of this brainwashing industry is to figure out how to spin information to journalists, similar to the lobbying of government. It is never really clear just how much truth the journalists receive because the news industry has become complacent. The messages that it presents are shaped by corporate powers who often spend millions on advertising with the six conglomerates that own 90% of the media:General Electric (GE), News-Corp, Disney, Viacom, Time Warner, and CBS. Yet, these corporations function under many different brands, such as FOX, ABC, CNN, Comcast, Wall Street Journal, etc, giving people the perception of choice   As Tavistock s researchers showed, it was important that the victims of mass brainwashing not be aware that their environment was being controlled; there should thus be a vast number of sources for information, whose messages could be varied slightly, so as to mask the sense of external control. ~ Specialist of mass brainwashing, L. WolfeNew Brainwashing Tactic Called AstroturfWith alternative media on the rise, the propaganda machine continues to expand. Below is a video of Sharyl Attkisson, investigative reporter with CBS, during which she explains how  astroturf,  or fake grassroots movements, are used to spin information not only to influence journalists but to sway public opinion. Astroturf is a perversion of grassroots. Astroturf is when political, corporate or other special interests disguise themselves and publish blogs, start facebook and twitter accounts, publish ads, letters to the editor, or simply post comments online, to try to fool you into thinking an independent or grassroots movement is speaking. ~ Sharyl Attkisson, Investigative ReporterHow do you separate fact from fiction? Sharyl Attkisson finishes her talk with some insights on how to identify signs of propaganda and astroturfing  These methods are used to give people the impression that there is widespread support for an agenda, when, in reality, one may not exist. Astroturf tactics are also used to discredit or criticize those that disagree with certain agendas, using stereotypical names such as conspiracy theorist or quack. When in fact when someone dares to reveal the truth or questions the  official  story, it should spark a deeper curiosity and encourage further scrutiny of the information.This article (Journalist Reveals Tactics Brainwashing Industry Uses to Manipulate the Public) was originally created and published by Waking Times and is published here under a Creative Commons license with attribution to Vic Bishop and WakingTimes.com. It may be re-posted freely with proper attribution, author bio, and this copyright statement. READ MORE MSM PROPAGANDA NEWS AT: 21st Century Wire MSM Watch Files\n",
        "\"\"\"\n",
        "test3=\"\"\"BRUSSELS (Reuters) - NATO allies on Tuesday welcomed President Donald Trump s decision to commit more forces to Afghanistan, as part of a new U.S. strategy he said would require more troops and funding from America s partners. Having run for the White House last year on a pledge to withdraw swiftly from Afghanistan, Trump reversed course on Monday and promised a stepped-up military campaign against  Taliban insurgents, saying:  Our troops will fight to win .  U.S. officials said he had signed off on plans to send about 4,000 more U.S. troops to add to the roughly 8,400 now deployed in Afghanistan. But his speech did not define benchmarks for successfully ending the war that began with the U.S.-led invasion of Afghanistan in 2001, and which he acknowledged had required an   extraordinary sacrifice of blood and treasure .  We will ask our NATO allies and global partners to support our new strategy, with additional troops and funding increases in line with our own. We are confident they will,  Trump said. That comment signaled he would further increase pressure on U.S. partners who have already been jolted by his repeated demands to step up their contributions to NATO and his description of the alliance as  obsolete  - even though, since taking office, he has said this is no longer the case. NATO Secretary General Jens Stoltenberg said in a statement:  NATO remains fully committed to Afghanistan and I am looking forward to discussing the way ahead with (Defense) Secretary (James) Mattis and our Allies and international partners.  NATO has 12,000 troops in Afghanistan, and 15 countries have pledged more, Stoltenberg said. Britain, a leading NATO member, called the U.S. commitment  very welcome .  In my call with Secretary Mattis yesterday we agreed that despite the challenges, we have to stay the course in Afghanistan to help build up its fragile democracy and reduce the terrorist threat to the West,  Defence Secretary Michael Fallon said. Germany, which has borne the brunt of Trump s criticism over  the scale of its defense spending, also welcomed the new U.S. plan.  Our continued commitment is necessary on the path to stabilizing the country,  a government spokeswoman said. In June, European allies had already pledged more troops but had not given details on numbers, waiting for the Trump administration to outline its strategy for the region.Nearly 16 years after the U.S.-led invasion - a response to the Sept. 11 attacks which were planned by al Qaeda leader Osama bin Laden from Afghanistan - the country is still struggling with weak central government and a Taliban insurgency. Trump said he shared the frustration of the American people who were  weary of war without victory , but a hasty withdrawal would create a vacuum for groups like Islamic State and al Qaeda to fill.\n",
        "\"\"\""
      ]
    },
    {
      "cell_type": "code",
      "execution_count": null,
      "metadata": {
        "id": "85lDMMJ1J4xQ"
      },
      "outputs": [],
      "source": [
        "def output_lable(n):\n",
        "    if n == 0:\n",
        "        return \"Fake News\"\n",
        "    elif n == 1:\n",
        "        return \"Not A Fake News\"\n",
        "    \n",
        "def manual_testing(news):\n",
        "    testing_news = {\"text\":[news]}\n",
        "    new_def_test = pd.DataFrame(testing_news)\n",
        "    new_def_test[\"text\"] = new_def_test[\"text\"].apply(miniscul)\n",
        "    new_def_test[\"text\"] = new_def_test[\"text\"].apply(supp_char_spe)\n",
        "    new_x_test = new_def_test[\"text\"]\n",
        "    new_xv_test = vectorization.transform(new_x_test)\n",
        "    pred_DT = DT.predict(new_xv_test) #le meilleurs en terme da accuracy et temps de executions\n",
        "#     pred_GBC = GBC.predict(new_xv_test) '''temps de execution tres elever'''\n",
        "#     pred_ABC = ABC.predict(new_xv_test)  '''temps de execution tres elever'''\n",
        "#     pred_RFC = RFC.predict(new_xv_test) meme que SVM\n",
        "\n",
        "    return print(\"\\nDT Prediction: {} \".format(output_lable(pred_DT[0])))"
      ]
    },
    {
      "cell_type": "code",
      "execution_count": null,
      "metadata": {
        "id": "c7QN34iTJ4xR"
      },
      "outputs": [],
      "source": [
        "manual_testing(test1)"
      ]
    },
    {
      "cell_type": "code",
      "execution_count": null,
      "metadata": {
        "id": "W_ha9C4aJ4xR"
      },
      "outputs": [],
      "source": [
        "manual_testing(test2)"
      ]
    },
    {
      "cell_type": "code",
      "execution_count": null,
      "metadata": {
        "id": "Ij_MlVi2J4xR"
      },
      "outputs": [],
      "source": [
        "manual_testing(test3)"
      ]
    },
    {
      "cell_type": "code",
      "execution_count": null,
      "metadata": {
        "id": "uLXrNeL6J4xR"
      },
      "outputs": [],
      "source": [
        "\n",
        "algscore = pd.DataFrame({'Alg':['DT','GBC','RFC','ABC','KNN','SVM'], 'score':[0.995, 0.994, 0.991, 0.994,0.644,0.930 ]})\n",
        "algscore.plot.bar(x='Alg', y='score', rot=0)"
      ]
    }
  ],
  "metadata": {
    "kernelspec": {
      "display_name": "Python 3",
      "language": "python",
      "name": "python3"
    },
    "language_info": {
      "codemirror_mode": {
        "name": "ipython",
        "version": 3
      },
      "file_extension": ".py",
      "mimetype": "text/x-python",
      "name": "python",
      "nbconvert_exporter": "python",
      "pygments_lexer": "ipython3",
      "version": "3.8.8"
    },
    "colab": {
      "name": "Fake_News_Detection.ipynb",
      "private_outputs": true,
      "provenance": []
    },
    "accelerator": "GPU"
  },
  "nbformat": 4,
  "nbformat_minor": 0
}